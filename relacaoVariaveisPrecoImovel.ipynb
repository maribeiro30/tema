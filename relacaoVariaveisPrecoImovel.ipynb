{
  "nbformat": 4,
  "nbformat_minor": 0,
  "metadata": {
    "colab": {
      "provenance": [],
      "authorship_tag": "ABX9TyNJpeOHUTuSX1SzlL3QyctD",
      "include_colab_link": true
    },
    "kernelspec": {
      "name": "python3",
      "display_name": "Python 3"
    },
    "language_info": {
      "name": "python"
    }
  },
  "cells": [
    {
      "cell_type": "markdown",
      "metadata": {
        "id": "view-in-github",
        "colab_type": "text"
      },
      "source": [
        "<a href=\"https://colab.research.google.com/github/maribeiro30/tema/blob/main/relacaoVariaveisPrecoImovel.ipynb\" target=\"_parent\"><img src=\"https://colab.research.google.com/assets/colab-badge.svg\" alt=\"Open In Colab\"/></a>"
      ]
    },
    {
      "cell_type": "markdown",
      "source": [
        "**Aluno :** Marco Antonio Ribeiro"
      ],
      "metadata": {
        "id": "MfcKEtDQsKn4"
      }
    },
    {
      "cell_type": "markdown",
      "source": [
        "**Orientadora:** Dra Dora Yovana Barrios Leal"
      ],
      "metadata": {
        "id": "rnTu7cQqsLFR"
      }
    },
    {
      "cell_type": "markdown",
      "source": [
        "**Curso:** Data Science Analytics"
      ],
      "metadata": {
        "id": "WAtMmNUIszcN"
      }
    },
    {
      "cell_type": "markdown",
      "source": [
        "**Título:** Valorização dos Imoveis"
      ],
      "metadata": {
        "id": "HTQxYT-itGAG"
      }
    },
    {
      "cell_type": "markdown",
      "source": [],
      "metadata": {
        "id": "qY7XY7HFE7zc"
      }
    },
    {
      "cell_type": "markdown",
      "source": [
        "**Introdução:**"
      ],
      "metadata": {
        "id": "yHx_amfBFDf0"
      }
    },
    {
      "cell_type": "markdown",
      "source": [],
      "metadata": {
        "id": "HFFoFR5hFWrK"
      }
    },
    {
      "cell_type": "code",
      "source": [],
      "metadata": {
        "id": "r4O2L9FvFaQa"
      },
      "execution_count": null,
      "outputs": []
    }
  ]
}