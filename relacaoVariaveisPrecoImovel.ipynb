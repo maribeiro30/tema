{
  "nbformat": 4,
  "nbformat_minor": 0,
  "metadata": {
    "colab": {
      "provenance": [],
      "authorship_tag": "ABX9TyPsoz/d5xFtcCNQZ5MwRwVd",
      "include_colab_link": true
    },
    "kernelspec": {
      "name": "python3",
      "display_name": "Python 3"
    },
    "language_info": {
      "name": "python"
    }
  },
  "cells": [
    {
      "cell_type": "markdown",
      "metadata": {
        "id": "view-in-github",
        "colab_type": "text"
      },
      "source": [
        "<a href=\"https://colab.research.google.com/github/maribeiro30/tema/blob/main/relacaoVariaveisPrecoImovel.ipynb\" target=\"_parent\"><img src=\"https://colab.research.google.com/assets/colab-badge.svg\" alt=\"Open In Colab\"/></a>"
      ]
    },
    {
      "cell_type": "markdown",
      "source": [
        "**Aluno :** Marco Antonio Ribeiro"
      ],
      "metadata": {
        "id": "MfcKEtDQsKn4"
      }
    },
    {
      "cell_type": "markdown",
      "source": [
        "**Orientadora:** Dra Dora Yovana Barrios Leal"
      ],
      "metadata": {
        "id": "rnTu7cQqsLFR"
      }
    },
    {
      "cell_type": "markdown",
      "source": [
        "**Curso:** Data Science Analytics"
      ],
      "metadata": {
        "id": "WAtMmNUIszcN"
      }
    },
    {
      "cell_type": "markdown",
      "source": [
        "**Título:** Fatores que influenciam a Valorização dos Imoveis"
      ],
      "metadata": {
        "id": "HTQxYT-itGAG"
      }
    },
    {
      "cell_type": "markdown",
      "source": [],
      "metadata": {
        "id": "qY7XY7HFE7zc"
      }
    },
    {
      "cell_type": "markdown",
      "source": [
        "**Introdução:**\n",
        "  Verificando a influencia de variaveis como; comercio, areas verdas, IDH e infra-estrutura na valorização dos imoveis pelo IPTU."
      ],
      "metadata": {
        "id": "yHx_amfBFDf0"
      }
    },
    {
      "cell_type": "code",
      "source": [],
      "metadata": {
        "id": "LpTwPy_5kTl6"
      },
      "execution_count": null,
      "outputs": []
    },
    {
      "cell_type": "markdown",
      "source": [],
      "metadata": {
        "id": "HFFoFR5hFWrK"
      }
    },
    {
      "cell_type": "code",
      "source": [
        "import os\n",
        "import random\n",
        "import pandas as pd\n",
        "import numpy as np\n",
        "import random\n",
        "import tensorflow as tf\n",
        "from sklearn.preprocessing import MinMaxScaler\n",
        "from sklearn.model_selection import train_test_split\n",
        "from tensorflow import keras\n",
        "from keras.optimizers import Adam, RMSprop\n",
        "from keras.models import Sequential\n",
        "from keras.layers import SimpleRNN, LSTM, Dense\n",
        "import matplotlib.pyplot as plt\n"
      ],
      "metadata": {
        "id": "r4O2L9FvFaQa"
      },
      "execution_count": null,
      "outputs": []
    },
    {
      "cell_type": "code",
      "source": [
        "# Carregar dados do arquivo Ceps\n",
        "ceps = pd.read_csv('CEP_SANTOAMARO_CAMPOBELO.csv')"
      ],
      "metadata": {
        "id": "mQq9ISNiMVCE"
      },
      "execution_count": null,
      "outputs": []
    },
    {
      "cell_type": "code",
      "source": [
        "# Carregar dados IPTU de apartementos SP 2000 e 2010\n",
        "iptu_2000 = pd.read_csv('EG_2000_Apartamentos.csv', encoding=\"utf-8\", sep=';', thousands=',')\n",
        "iptu_2010 = pd.read_csv('EG_2010_apartamentos.csv', encoding=\"utf-8\", sep=';', thousands=',')"
      ],
      "metadata": {
        "id": "8jEVyRFDQd5x"
      },
      "execution_count": null,
      "outputs": []
    },
    {
      "cell_type": "code",
      "source": [
        "# Carregar dados do arquivo IDH 2000 e 2010- dos bairros Campo Belo e Santo Amaro\n",
        "idhs =  pd.read_csv('DEINFO_IDH_UDH_2000_2010_CampoBelo_SantoAmaro_Dados.CSV', encoding='ISO-8859-1')"
      ],
      "metadata": {
        "id": "udRgZf0tQgyJ"
      },
      "execution_count": null,
      "outputs": []
    }
  ]
}